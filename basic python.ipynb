{
 "cells": [
  {
   "cell_type": "code",
   "execution_count": 1,
   "id": "56aa888c-df17-4137-b8f4-519f88ef9d95",
   "metadata": {},
   "outputs": [],
   "source": [
    "a=10"
   ]
  },
  {
   "cell_type": "code",
   "execution_count": 2,
   "id": "66e61dc1-6338-4f04-8dc4-6f647c064d1e",
   "metadata": {},
   "outputs": [
    {
     "data": {
      "text/plain": [
       "10"
      ]
     },
     "execution_count": 2,
     "metadata": {},
     "output_type": "execute_result"
    }
   ],
   "source": [
    "a"
   ]
  },
  {
   "cell_type": "code",
   "execution_count": 3,
   "id": "32a3be75-a52d-4ecc-b92d-8a0e5584481a",
   "metadata": {},
   "outputs": [],
   "source": [
    "anshu=20"
   ]
  },
  {
   "cell_type": "code",
   "execution_count": 4,
   "id": "fccaedaf-2797-41fe-a8d6-8f00d92ceeab",
   "metadata": {},
   "outputs": [
    {
     "data": {
      "text/plain": [
       "20"
      ]
     },
     "execution_count": 4,
     "metadata": {},
     "output_type": "execute_result"
    }
   ],
   "source": [
    "anshu"
   ]
  },
  {
   "cell_type": "code",
   "execution_count": 5,
   "id": "6ab7186f-4e80-41cc-b340-f5e884dbb09b",
   "metadata": {},
   "outputs": [
    {
     "data": {
      "text/plain": [
       "50"
      ]
     },
     "execution_count": 5,
     "metadata": {},
     "output_type": "execute_result"
    }
   ],
   "source": [
    "anshu+30"
   ]
  },
  {
   "cell_type": "code",
   "execution_count": 6,
   "id": "ce7654a1-30d5-4fef-8eb4-d7c7a12e80c2",
   "metadata": {},
   "outputs": [
    {
     "data": {
      "text/plain": [
       "int"
      ]
     },
     "execution_count": 6,
     "metadata": {},
     "output_type": "execute_result"
    }
   ],
   "source": [
    "type(a)"
   ]
  },
  {
   "cell_type": "code",
   "execution_count": 7,
   "id": "42ecb4c7-afd6-4295-a5e2-f9c2cca0bd81",
   "metadata": {},
   "outputs": [
    {
     "data": {
      "text/plain": [
       "int"
      ]
     },
     "execution_count": 7,
     "metadata": {},
     "output_type": "execute_result"
    }
   ],
   "source": [
    "type(anshu)"
   ]
  },
  {
   "cell_type": "code",
   "execution_count": 8,
   "id": "72156e92-596b-4ef9-bbb4-5c1408fc08a6",
   "metadata": {},
   "outputs": [],
   "source": [
    "g=98.2"
   ]
  },
  {
   "cell_type": "code",
   "execution_count": 9,
   "id": "519fbd7a-14c2-4957-811b-2bf452ff2462",
   "metadata": {},
   "outputs": [
    {
     "data": {
      "text/plain": [
       "float"
      ]
     },
     "execution_count": 9,
     "metadata": {},
     "output_type": "execute_result"
    }
   ],
   "source": [
    "type(g)"
   ]
  },
  {
   "cell_type": "code",
   "execution_count": 10,
   "id": "b0cfe64e-a967-40c2-93dd-c6f132b8bf79",
   "metadata": {},
   "outputs": [],
   "source": [
    "e=\"hello word\""
   ]
  },
  {
   "cell_type": "code",
   "execution_count": 11,
   "id": "0cafebeb-1d31-4786-8fb0-d542cf0d929c",
   "metadata": {},
   "outputs": [
    {
     "data": {
      "text/plain": [
       "'hello word'"
      ]
     },
     "execution_count": 11,
     "metadata": {},
     "output_type": "execute_result"
    }
   ],
   "source": [
    "e"
   ]
  },
  {
   "cell_type": "code",
   "execution_count": 12,
   "id": "d1a8ebc3-b39b-4902-9a95-59769d207ba1",
   "metadata": {},
   "outputs": [
    {
     "data": {
      "text/plain": [
       "str"
      ]
     },
     "execution_count": 12,
     "metadata": {},
     "output_type": "execute_result"
    }
   ],
   "source": [
    "type(e)"
   ]
  },
  {
   "cell_type": "code",
   "execution_count": 13,
   "id": "1132b7bb-9f0c-4e8e-b65f-593fa121470a",
   "metadata": {},
   "outputs": [],
   "source": [
    "n=True"
   ]
  },
  {
   "cell_type": "code",
   "execution_count": 14,
   "id": "3b1a6141-ca29-4289-9146-eceecd098f57",
   "metadata": {},
   "outputs": [
    {
     "data": {
      "text/plain": [
       "bool"
      ]
     },
     "execution_count": 14,
     "metadata": {},
     "output_type": "execute_result"
    }
   ],
   "source": [
    "type(n)"
   ]
  },
  {
   "cell_type": "code",
   "execution_count": 15,
   "id": "7f95753a-1329-4fb3-ab18-5c7e862ada3b",
   "metadata": {},
   "outputs": [],
   "source": [
    "m=False"
   ]
  },
  {
   "cell_type": "code",
   "execution_count": 16,
   "id": "6be5f687-5c78-4d77-b91d-1a3fc3a4ce68",
   "metadata": {},
   "outputs": [
    {
     "data": {
      "text/plain": [
       "bool"
      ]
     },
     "execution_count": 16,
     "metadata": {},
     "output_type": "execute_result"
    }
   ],
   "source": [
    "type(m)"
   ]
  },
  {
   "cell_type": "code",
   "execution_count": 17,
   "id": "16b06c6d-2e40-4142-88b1-90427f6341ba",
   "metadata": {},
   "outputs": [
    {
     "data": {
      "text/plain": [
       "1"
      ]
     },
     "execution_count": 17,
     "metadata": {},
     "output_type": "execute_result"
    }
   ],
   "source": [
    "n+m"
   ]
  },
  {
   "cell_type": "code",
   "execution_count": 18,
   "id": "6982bfe9-24f2-4b1c-b819-b609900f3fc5",
   "metadata": {},
   "outputs": [
    {
     "data": {
      "text/plain": [
       "1"
      ]
     },
     "execution_count": 18,
     "metadata": {},
     "output_type": "execute_result"
    }
   ],
   "source": [
    "True*True"
   ]
  },
  {
   "cell_type": "code",
   "execution_count": 19,
   "id": "5092b1dd-e2bc-4f4a-9d09-b9f63753c202",
   "metadata": {},
   "outputs": [
    {
     "data": {
      "text/plain": [
       "0"
      ]
     },
     "execution_count": 19,
     "metadata": {},
     "output_type": "execute_result"
    }
   ],
   "source": [
    "True*False"
   ]
  },
  {
   "cell_type": "code",
   "execution_count": 22,
   "id": "7f151158-9bba-4a8e-a312-b95bc7121bcf",
   "metadata": {},
   "outputs": [
    {
     "data": {
      "text/plain": [
       "0"
      ]
     },
     "execution_count": 22,
     "metadata": {},
     "output_type": "execute_result"
    }
   ],
   "source": [
    "m*n"
   ]
  },
  {
   "cell_type": "code",
   "execution_count": 23,
   "id": "d9a158ed-1cf9-4f52-8376-207f915f2b4c",
   "metadata": {},
   "outputs": [],
   "source": [
    "v=a+8j"
   ]
  },
  {
   "cell_type": "code",
   "execution_count": 24,
   "id": "23f6796a-5b6d-44b4-81a1-c7201af0ffb5",
   "metadata": {},
   "outputs": [
    {
     "data": {
      "text/plain": [
       "10.0"
      ]
     },
     "execution_count": 24,
     "metadata": {},
     "output_type": "execute_result"
    }
   ],
   "source": [
    "v.real"
   ]
  },
  {
   "cell_type": "code",
   "execution_count": 26,
   "id": "fdd3f10d-a15f-4472-88be-e0621981554f",
   "metadata": {},
   "outputs": [
    {
     "data": {
      "text/plain": [
       "complex"
      ]
     },
     "execution_count": 26,
     "metadata": {},
     "output_type": "execute_result"
    }
   ],
   "source": [
    "type(v)"
   ]
  },
  {
   "cell_type": "code",
   "execution_count": 28,
   "id": "45a819ff-3e4b-4157-b995-36f9d65d46b1",
   "metadata": {},
   "outputs": [
    {
     "data": {
      "text/plain": [
       "8.0"
      ]
     },
     "execution_count": 28,
     "metadata": {},
     "output_type": "execute_result"
    }
   ],
   "source": [
    "v.imag"
   ]
  },
  {
   "cell_type": "code",
   "execution_count": 30,
   "id": "e52fd04c-a1aa-4d53-a555-9d0f2bc73d01",
   "metadata": {},
   "outputs": [
    {
     "name": "stdout",
     "output_type": "stream",
     "text": [
      "i am student\n"
     ]
    }
   ],
   "source": [
    "print(\"i am student\")"
   ]
  },
  {
   "cell_type": "code",
   "execution_count": 31,
   "id": "43ab3056-c9f8-49e4-bb0c-f3067b04c3a1",
   "metadata": {},
   "outputs": [
    {
     "name": "stdout",
     "output_type": "stream",
     "text": [
      "v\n"
     ]
    }
   ],
   "source": [
    "print(\"v\")"
   ]
  },
  {
   "cell_type": "code",
   "execution_count": 32,
   "id": "d5ec2397-cee8-480c-ac96-14e077072b68",
   "metadata": {},
   "outputs": [
    {
     "data": {
      "text/plain": [
       "(10+8j)"
      ]
     },
     "execution_count": 32,
     "metadata": {},
     "output_type": "execute_result"
    }
   ],
   "source": [
    "v"
   ]
  },
  {
   "cell_type": "code",
   "execution_count": 33,
   "id": "0fffe2e2-673a-4104-b0d5-00d6f324f8df",
   "metadata": {},
   "outputs": [],
   "source": [
    "s=\"lowest\""
   ]
  },
  {
   "cell_type": "code",
   "execution_count": 35,
   "id": "863959cc-6a0a-4427-97a5-af667bc27b43",
   "metadata": {},
   "outputs": [
    {
     "data": {
      "text/plain": [
       "str"
      ]
     },
     "execution_count": 35,
     "metadata": {},
     "output_type": "execute_result"
    }
   ],
   "source": [
    "type(s)"
   ]
  },
  {
   "cell_type": "code",
   "execution_count": 37,
   "id": "8f53c44f-c67e-4fd4-aded-fe8803118223",
   "metadata": {},
   "outputs": [
    {
     "data": {
      "text/plain": [
       "'e'"
      ]
     },
     "execution_count": 37,
     "metadata": {},
     "output_type": "execute_result"
    }
   ],
   "source": [
    "s[3]"
   ]
  },
  {
   "cell_type": "code",
   "execution_count": 38,
   "id": "7d907164-872b-46c8-9011-3906f3815052",
   "metadata": {},
   "outputs": [
    {
     "data": {
      "text/plain": [
       "'w'"
      ]
     },
     "execution_count": 38,
     "metadata": {},
     "output_type": "execute_result"
    }
   ],
   "source": [
    "s[2]"
   ]
  },
  {
   "cell_type": "code",
   "execution_count": 39,
   "id": "714eac64-3e9d-4bea-8c74-f1a556152981",
   "metadata": {},
   "outputs": [
    {
     "data": {
      "text/plain": [
       "'t'"
      ]
     },
     "execution_count": 39,
     "metadata": {},
     "output_type": "execute_result"
    }
   ],
   "source": [
    "s[-1]"
   ]
  },
  {
   "cell_type": "code",
   "execution_count": null,
   "id": "6dee3128-d12e-4bc8-8ce0-ef43710bb6b4",
   "metadata": {},
   "outputs": [],
   "source": [
    "s[0:]"
   ]
  }
 ],
 "metadata": {
  "kernelspec": {
   "display_name": "Python 3 (ipykernel)",
   "language": "python",
   "name": "python3"
  },
  "language_info": {
   "codemirror_mode": {
    "name": "ipython",
    "version": 3
   },
   "file_extension": ".py",
   "mimetype": "text/x-python",
   "name": "python",
   "nbconvert_exporter": "python",
   "pygments_lexer": "ipython3",
   "version": "3.10.8"
  }
 },
 "nbformat": 4,
 "nbformat_minor": 5
}
